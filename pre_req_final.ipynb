{
 "cells": [
  {
   "cell_type": "code",
   "execution_count": 52,
   "id": "25a6f294",
   "metadata": {},
   "outputs": [],
   "source": [
    "# import packages\n",
    "import numpy as np\n",
    "import time\n",
    "import matplotlib.pyplot as plt\n",
    "import pandas as pd\n",
    "\n"
   ]
  },
  {
   "cell_type": "markdown",
   "id": "1d8ebd68",
   "metadata": {},
   "source": [
    "Q1:\n",
    "for the Matrix multiplication total number of multiplications needed is k * n * m and total number of additions needed is (k-1) * n * m\n",
    "\n",
    "\n",
    "n = number of rows of first matrix  \n",
    "\n",
    "\n",
    "m = number of columns of second matrix\n",
    "\n",
    "\n",
    "k = number of columns of first matrix and number of rows of second matrix\n",
    "\n",
    "as in matrix multiplication we need to multiply each element of a row of first matrix with each element of a column of second matrix and add them to get the element of resultant matrix. \n",
    "\n",
    "so for each element of resultant matrix we need to do k multiplications and k-1 additions. so for n * m matrix we need to do n * m * k multiplications and n * m * (k-1) additions. \n",
    "\n"
   ]
  },
  {
   "cell_type": "markdown",
   "id": "d7ec0f62",
   "metadata": {},
   "source": [
    "Q2 Python implementation (list of list using for loop vs numpy array using vectorization)"
   ]
  },
  {
   "cell_type": "code",
   "execution_count": 53,
   "id": "a9d3bb82",
   "metadata": {},
   "outputs": [],
   "source": [
    "#Q2 --> python implementation\n",
    "a1 = np.random.randint(1, 20, [20,20])\n",
    "a2 = np.random.randint(1, 20, [20,20])\n",
    "# matrix multiplication\n",
    "\n"
   ]
  },
  {
   "cell_type": "code",
   "execution_count": 54,
   "id": "68c212ad",
   "metadata": {},
   "outputs": [
    {
     "name": "stdout",
     "output_type": "stream",
     "text": [
      "[[1662, 2845, 2379, 2034, 2388, 2075, 2388, 2303, 2044, 2677, 2042, 2381, 2337, 2537, 1882, 2331, 2215, 2071, 2621, 2579], [1354, 2075, 1906, 1840, 1778, 1594, 1912, 1638, 1659, 1829, 1911, 1724, 1973, 1638, 1369, 1778, 1428, 1830, 2077, 1816], [1414, 2119, 2065, 1937, 2067, 1672, 2303, 2054, 1727, 1982, 2131, 1889, 2077, 1641, 1366, 1934, 2015, 2071, 2369, 1963], [1408, 2167, 1879, 1608, 1962, 1500, 2121, 1977, 1674, 2177, 1817, 2008, 1809, 2053, 1658, 1889, 1963, 1990, 2197, 1932], [1177, 2130, 1987, 1362, 1593, 1557, 1847, 1647, 1300, 1946, 1949, 1733, 1993, 1698, 1408, 2061, 1614, 1556, 2045, 1618], [1578, 2557, 2194, 1624, 2038, 1718, 2165, 2129, 1813, 2305, 2132, 2228, 2073, 2100, 1793, 2286, 2057, 2047, 2254, 2098], [1804, 2706, 2305, 2365, 2626, 2144, 2293, 2274, 2048, 2651, 2184, 2089, 2151, 2036, 2004, 2413, 2201, 2137, 2819, 2584], [1286, 2080, 1618, 1530, 1913, 1469, 1785, 1563, 1572, 2045, 1790, 1747, 1577, 1507, 1298, 1951, 1757, 1625, 1948, 1958], [1621, 2397, 1954, 1877, 1930, 1519, 1828, 1649, 1876, 2221, 1808, 1806, 1835, 1576, 1475, 1867, 1921, 1684, 2197, 2083], [1791, 2493, 2264, 2082, 2141, 1806, 2041, 2116, 1935, 2457, 2219, 2168, 2149, 2105, 1572, 2177, 2019, 2021, 2810, 2283], [1344, 2204, 1829, 1704, 1856, 1702, 1718, 1720, 1502, 2204, 1776, 1935, 1889, 1898, 1652, 2091, 1565, 1678, 2180, 2000], [1544, 2069, 2017, 1962, 2108, 2010, 1957, 2032, 1794, 1976, 1900, 1854, 1916, 1629, 1511, 1852, 1800, 1547, 2182, 2098], [1876, 2922, 2844, 2085, 2555, 2220, 2529, 2422, 2085, 2535, 2589, 2518, 2588, 2426, 1829, 2476, 2264, 2398, 2849, 2476], [1764, 2487, 2064, 1904, 2247, 1924, 2332, 2259, 2064, 2645, 1952, 2032, 2009, 2180, 1641, 2016, 2358, 1736, 2331, 2198], [1502, 2094, 1845, 1600, 1681, 1545, 1912, 1820, 1618, 2125, 2038, 1825, 1792, 1795, 1347, 1792, 1536, 1593, 1887, 1507], [1512, 2728, 1990, 2014, 2256, 1966, 2564, 2222, 1985, 2615, 1781, 2315, 2176, 2346, 1805, 2273, 2118, 1946, 2497, 2293], [1567, 2342, 2199, 1820, 1900, 1738, 2122, 2017, 1650, 2483, 2371, 1959, 2276, 2238, 1728, 2149, 1786, 2040, 2283, 1872], [1394, 2115, 1925, 1878, 1995, 1666, 2033, 1820, 1622, 2080, 1894, 1831, 1888, 1751, 1435, 1755, 1785, 1733, 2216, 1922], [1412, 2401, 2037, 1847, 2182, 1715, 2192, 1782, 1813, 2438, 1944, 2068, 2203, 1939, 1497, 2209, 2057, 2039, 2233, 2216], [1280, 1918, 1740, 1567, 1737, 1438, 1623, 1631, 1498, 1812, 1848, 1637, 1731, 1508, 1402, 1762, 1499, 1629, 1653, 1756]]\n",
      "1704553071.5135589\n",
      "1704553071.5175583\n",
      "time0.003999471664428711\n"
     ]
    }
   ],
   "source": [
    "# matrix multiplication\n",
    "#i are rows and j are columns\n",
    "# n iterates over rows in a1\n",
    "start = time.time()\n",
    "mult = []\n",
    "for n in range (len(a1)):\n",
    "    #print(mult)\n",
    "    # m iterrates over columns of a2\n",
    "    row_mult = []\n",
    "    for m in range(len(a1[n])):\n",
    "        sum = 0\n",
    "        # k iterates over rows of a2 and column of a1\n",
    "        for k in range(len(a2)):\n",
    "            sum = sum + a1[n][k] * a2[k][m]\n",
    "        row_mult.append(sum)\n",
    "    mult.append(row_mult)\n",
    "print(mult)\n",
    "end = time.time()\n",
    "total = end - start\n",
    "print(start)\n",
    "print(end)\n",
    "print(f\"time{total}\")"
   ]
  },
  {
   "cell_type": "code",
   "execution_count": 55,
   "id": "1824273a",
   "metadata": {},
   "outputs": [
    {
     "name": "stdout",
     "output_type": "stream",
     "text": [
      "[[1662 2845 2379 2034 2388 2075 2388 2303 2044 2677 2042 2381 2337 2537\n",
      "  1882 2331 2215 2071 2621 2579]\n",
      " [1354 2075 1906 1840 1778 1594 1912 1638 1659 1829 1911 1724 1973 1638\n",
      "  1369 1778 1428 1830 2077 1816]\n",
      " [1414 2119 2065 1937 2067 1672 2303 2054 1727 1982 2131 1889 2077 1641\n",
      "  1366 1934 2015 2071 2369 1963]\n",
      " [1408 2167 1879 1608 1962 1500 2121 1977 1674 2177 1817 2008 1809 2053\n",
      "  1658 1889 1963 1990 2197 1932]\n",
      " [1177 2130 1987 1362 1593 1557 1847 1647 1300 1946 1949 1733 1993 1698\n",
      "  1408 2061 1614 1556 2045 1618]\n",
      " [1578 2557 2194 1624 2038 1718 2165 2129 1813 2305 2132 2228 2073 2100\n",
      "  1793 2286 2057 2047 2254 2098]\n",
      " [1804 2706 2305 2365 2626 2144 2293 2274 2048 2651 2184 2089 2151 2036\n",
      "  2004 2413 2201 2137 2819 2584]\n",
      " [1286 2080 1618 1530 1913 1469 1785 1563 1572 2045 1790 1747 1577 1507\n",
      "  1298 1951 1757 1625 1948 1958]\n",
      " [1621 2397 1954 1877 1930 1519 1828 1649 1876 2221 1808 1806 1835 1576\n",
      "  1475 1867 1921 1684 2197 2083]\n",
      " [1791 2493 2264 2082 2141 1806 2041 2116 1935 2457 2219 2168 2149 2105\n",
      "  1572 2177 2019 2021 2810 2283]\n",
      " [1344 2204 1829 1704 1856 1702 1718 1720 1502 2204 1776 1935 1889 1898\n",
      "  1652 2091 1565 1678 2180 2000]\n",
      " [1544 2069 2017 1962 2108 2010 1957 2032 1794 1976 1900 1854 1916 1629\n",
      "  1511 1852 1800 1547 2182 2098]\n",
      " [1876 2922 2844 2085 2555 2220 2529 2422 2085 2535 2589 2518 2588 2426\n",
      "  1829 2476 2264 2398 2849 2476]\n",
      " [1764 2487 2064 1904 2247 1924 2332 2259 2064 2645 1952 2032 2009 2180\n",
      "  1641 2016 2358 1736 2331 2198]\n",
      " [1502 2094 1845 1600 1681 1545 1912 1820 1618 2125 2038 1825 1792 1795\n",
      "  1347 1792 1536 1593 1887 1507]\n",
      " [1512 2728 1990 2014 2256 1966 2564 2222 1985 2615 1781 2315 2176 2346\n",
      "  1805 2273 2118 1946 2497 2293]\n",
      " [1567 2342 2199 1820 1900 1738 2122 2017 1650 2483 2371 1959 2276 2238\n",
      "  1728 2149 1786 2040 2283 1872]\n",
      " [1394 2115 1925 1878 1995 1666 2033 1820 1622 2080 1894 1831 1888 1751\n",
      "  1435 1755 1785 1733 2216 1922]\n",
      " [1412 2401 2037 1847 2182 1715 2192 1782 1813 2438 1944 2068 2203 1939\n",
      "  1497 2209 2057 2039 2233 2216]\n",
      " [1280 1918 1740 1567 1737 1438 1623 1631 1498 1812 1848 1637 1731 1508\n",
      "  1402 1762 1499 1629 1653 1756]]\n",
      "0.0010001659393310547\n"
     ]
    }
   ],
   "source": [
    "# numpy\n",
    "s = time.time()\n",
    "a3 = np.matmul(a1,a2)\n",
    "print(a3)\n",
    "e = time.time()\n",
    "t = e - s\n",
    "print(t)"
   ]
  },
  {
   "cell_type": "markdown",
   "id": "9f24d162",
   "metadata": {},
   "source": [
    "numpy is faster than python implementation becose of vectorization"
   ]
  },
  {
   "cell_type": "markdown",
   "id": "3481866d",
   "metadata": {},
   "source": [
    "Q3 finding median of a list of numbers"
   ]
  },
  {
   "cell_type": "code",
   "execution_count": 56,
   "id": "1424cc66",
   "metadata": {},
   "outputs": [
    {
     "name": "stdout",
     "output_type": "stream",
     "text": [
      "[932779, 9918, 8237, 8172, 98, 87, 81, 71, 66, 33, 18, 11, 10, 9, 9, 7, 1, 0]\n",
      "meadian: 49.5\n",
      "0.0\n"
     ]
    }
   ],
   "source": [
    "#find the median-- naive approach\n",
    "# time complexity O(n^2)\n",
    "a = [1,33,7,9,0,9,10,11,66,87,8172,9918,81,71,18,98,932779,8237]\n",
    "def sort(a):\n",
    "    temp = 0\n",
    "    for i in range(len(a)-1, -1, -1):\n",
    "        for j in range(len(a)-1,-1,-1):\n",
    "            if a[i] < a[j]:\n",
    "                temp = a[j]\n",
    "                a[j] = a[i]\n",
    "                a[i] = temp\n",
    "    return a\n",
    "\n",
    "s = time.time()\n",
    "print(sort(a))\n",
    "e = time.time()\n",
    "def median(a):\n",
    "    if len(a) % 2 == 0:\n",
    "        return ((a[len(a)//2 - 1] + a[(len(a)//2)]) / 2)\n",
    "    else:\n",
    "        return (a[((len(a) + 1) // 2) -1])\n",
    "print(f\"meadian: {median(a)}\")\n",
    "\n",
    "t = e - s\n",
    "print(t)\n",
    "\n",
    "    "
   ]
  },
  {
   "cell_type": "code",
   "execution_count": 57,
   "id": "eed8c28d",
   "metadata": {},
   "outputs": [
    {
     "name": "stdout",
     "output_type": "stream",
     "text": [
      "[0, 1, 7, 9, 9, 10, 11, 18, 33, 66, 71, 81, 87, 98, 8172, 8237, 9918, 932779]\n",
      "meadian: 49.5\n",
      "0.0\n"
     ]
    }
   ],
   "source": [
    "# find the median--sorting with merge sort--better than naive\n",
    "# time complexity O(nlogn)\n",
    "\n",
    "\n",
    "a = [1,33,7,9,0,9,10,11,66,87,8172,9918,81,71,18,98,932779,8237]\n",
    "# divide and conquer \n",
    "def merge_sort(a):\n",
    "    if len(a) > 1:\n",
    "        # to slice into two\n",
    "        m = len(a) // 2\n",
    "\n",
    "        # left and right arrays\n",
    "        left_a = a[:m]\n",
    "        right_a = a[m:]\n",
    "        merge_sort(left_a)\n",
    "        merge_sort(right_a)\n",
    "\n",
    "        # its time to merge the arrays\n",
    "        \n",
    "        # indexes to track\n",
    "        i = 0 # left array index\n",
    "        j = 0 # left array index\n",
    "        k = 0 # new merged array index\n",
    "        \n",
    "        while i < len (left_a) and j < len(right_a):\n",
    "            if left_a[i] < right_a[j]:\n",
    "                a[k] = left_a[i]\n",
    "                i += 1\n",
    "            else:\n",
    "                a[k] = right_a[j]\n",
    "                j += 1\n",
    "            k += 1\n",
    "\n",
    "        while i < len(left_a):\n",
    "            a[k] = left_a[i]\n",
    "            i += 1\n",
    "            k += 1\n",
    "        while j < len(right_a):\n",
    "            a[k] = right_a[j]\n",
    "            j += 1\n",
    "            k += 1\n",
    "\n",
    "\n",
    "        \n",
    "   \n",
    "s = time.time()\n",
    "merge_sort(a)\n",
    "e = time.time()\n",
    "t = e - s\n",
    "\n",
    "print(a)\n",
    "\n",
    "def median(a):\n",
    "    if len(a) % 2 == 0:\n",
    "        return ((a[len(a)//2 - 1] + a[(len(a)//2)]) / 2)\n",
    "    else:\n",
    "        return (a[((len(a) + 1) // 2) -1])\n",
    "print(f\"meadian: {median(a)}\")\n",
    "\n",
    "print(t)\n",
    "\n",
    "\n",
    "  "
   ]
  },
  {
   "cell_type": "code",
   "execution_count": 58,
   "id": "fe3483ec",
   "metadata": {},
   "outputs": [
    {
     "name": "stdout",
     "output_type": "stream",
     "text": [
      "49.5\n",
      "0.001012563705444336\n"
     ]
    }
   ],
   "source": [
    "# implemnt numpy median function\n",
    "a = [1,33,7,9,0,9,10,11,66,87,8172,9918,81,71,18,98,932779,8237]\n",
    "a = np.array(a)\n",
    "s = time.time()\n",
    "print(np.median(a))\n",
    "e = time.time()\n",
    "t = e - s\n",
    "print(t)"
   ]
  },
  {
   "cell_type": "markdown",
   "id": "c13e58a0",
   "metadata": {},
   "source": [
    "python naive: 0.001\n",
    "\n",
    "\n",
    "merge sort: 0.0006\n",
    "\n",
    "numpy: 0.024"
   ]
  },
  {
   "cell_type": "markdown",
   "id": "1d4432b8",
   "metadata": {},
   "source": [
    "Q4 Gradient of a function\n",
    "x ^ 2 + y ^ 3 * sin(x) \n",
    "\n",
    "\n",
    "is partial differentiation of the function with respect to each variable and then combining them together (vector with these two elements as its components is the gradient of the function)\n",
    "\n"
   ]
  },
  {
   "cell_type": "markdown",
   "id": "22c73483",
   "metadata": {},
   "source": [
    "Q7 Nested Dictionary"
   ]
  },
  {
   "cell_type": "code",
   "execution_count": 59,
   "id": "d297b78b",
   "metadata": {},
   "outputs": [],
   "source": [
    "#Pythons nested dictionary\n",
    "dict = {2022:{\"Branch1\": {\"Roll Number\": 1, \"Name\": \"A\",\"Marks\":{\"Maths\":100, \"ML\": 33}},\"Branch2\":{\"Roll Number\": 1, \"Name\": \"B\",\"Marks\":{\"Maths\":100, \"ML\": 33}}}, \n",
    "    2023:{\"Branch1\": {\"Roll Number\": 3, \"Name\": \"C\",\"Marks\":{\"Maths\":100, \"ML\": 33}},\"Branch2\":{\"Roll Number\": 4, \"Name\": \"D\",\"Marks\":{\"Maths\":100, \"ML\": 33}}}}\n"
   ]
  },
  {
   "cell_type": "code",
   "execution_count": 60,
   "id": "291564cd",
   "metadata": {},
   "outputs": [],
   "source": [
    "# making the same information in the form of class\n",
    "class student_record:\n",
    "    def __init__(self, year):\n",
    "        self.year = year\n",
    "class year:\n",
    "    def __init__(self, year_name, branch_list):\n",
    "        self.year_name = year_name\n",
    "        self.branch_list = branch_list\n",
    "class branch:\n",
    "    def __init__(self, branch_name, student_list):\n",
    "        self.branch_name = branch_name\n",
    "        self.stuent_list = student_list\n",
    "\n",
    "class student:\n",
    "    def __init__(self, roll_number, name, marks):\n",
    "        self.roll_number = roll_number\n",
    "        self.name = name\n",
    "        self.marks = marks\n",
    "\n",
    "# creating objects\n",
    "# year 2022\n",
    "#branch 1\n",
    "# student 1\n",
    "s1 = student(1, \"A\", {\"Maths\":100, \"ML\": 33})\n",
    "# student 2\n",
    "s2 = student(2, \"B\", {\"Maths\":100, \"ML\": 33})\n",
    "# branch 2\n",
    "# student 1\n",
    "s3 = student(3, \"C\", {\"Maths\":100, \"ML\": 33})\n",
    "# student 2\n",
    "s4 = student(4, \"D\", {\"Maths\":100, \"ML\": 33})\n",
    "\n",
    "# branch 1\n",
    "b1 = branch(\"Branch1\", [s1,s2])\n",
    "# branch 2\n",
    "b2 = branch(\"Branch2\", [s3,s4])\n",
    "\n",
    "# year 2022\n",
    "y1 = year(2022, [b1,b2])\n",
    "\n",
    "# year 2023\n",
    "#branch 1\n",
    "# student 1\n",
    "s5 = student(1, \"A\", {\"Maths\":100, \"ML\": 33})\n",
    "# student 2\n",
    "s6 = student(2, \"B\", {\"Maths\":100, \"ML\": 33})\n",
    "# branch 2\n",
    "# student 1\n",
    "s7 = student(3, \"C\", {\"Maths\":100, \"ML\": 33})\n",
    "# student 2\n",
    "s8 = student(4, \"D\", {\"Maths\":100, \"ML\": 33})\n",
    "\n",
    "# branch 1\n",
    "b3 = branch(\"Branch1\", [s5,s6])\n",
    "# branch 2\n",
    "b4 = branch(\"Branch2\", [s7,s8])\n",
    "\n",
    "# year 2023\n",
    "y2 = year(2023, [b3,b4])\n",
    "\n",
    "# student record \n",
    "sr = student_record([y1, y2])\n",
    "\n",
    "\n",
    "\n",
    "\n",
    "\n",
    "\n",
    "    \n",
    "    "
   ]
  },
  {
   "cell_type": "code",
   "execution_count": 61,
   "id": "3b426119",
   "metadata": {},
   "outputs": [
    {
     "name": "stdout",
     "output_type": "stream",
     "text": [
      "[  5.    5.5   6.    6.5   7.    7.5   8.    8.5   9.    9.5  10.   10.5\n",
      "  11.   11.5  12.   12.5  13.   13.5  14.   14.5  15.   15.5  16.   16.5\n",
      "  17.   17.5  18.   18.5  19.   19.5  20.   20.5  21.   21.5  22.   22.5\n",
      "  23.   23.5  24.   24.5  25.   25.5  26.   26.5  27.   27.5  28.   28.5\n",
      "  29.   29.5  30.   30.5  31.   31.5  32.   32.5  33.   33.5  34.   34.5\n",
      "  35.   35.5  36.   36.5  37.   37.5  38.   38.5  39.   39.5  40.   40.5\n",
      "  41.   41.5  42.   42.5  43.   43.5  44.   44.5  45.   45.5  46.   46.5\n",
      "  47.   47.5  48.   48.5  49.   49.5  50.   50.5  51.   51.5  52.   52.5\n",
      "  53.   53.5  54.   54.5  55.   55.5  56.   56.5  57.   57.5  58.   58.5\n",
      "  59.   59.5  60.   60.5  61.   61.5  62.   62.5  63.   63.5  64.   64.5\n",
      "  65.   65.5  66.   66.5  67.   67.5  68.   68.5  69.   69.5  70.   70.5\n",
      "  71.   71.5  72.   72.5  73.   73.5  74.   74.5  75.   75.5  76.   76.5\n",
      "  77.   77.5  78.   78.5  79.   79.5  80.   80.5  81.   81.5  82.   82.5\n",
      "  83.   83.5  84.   84.5  85.   85.5  86.   86.5  87.   87.5  88.   88.5\n",
      "  89.   89.5  90.   90.5  91.   91.5  92.   92.5  93.   93.5  94.   94.5\n",
      "  95.   95.5  96.   96.5  97.   97.5  98.   98.5  99.   99.5 100. ]\n"
     ]
    }
   ],
   "source": [
    "# Q.9 plotting functions\n",
    "\n",
    "x = np.arange(5.0,100.5,0.5)\n",
    "print(x)\n"
   ]
  },
  {
   "cell_type": "code",
   "execution_count": 62,
   "id": "77ce9777",
   "metadata": {},
   "outputs": [
    {
     "data": {
      "text/plain": [
       "[<matplotlib.lines.Line2D at 0x1929018ca90>]"
      ]
     },
     "execution_count": 62,
     "metadata": {},
     "output_type": "execute_result"
    },
    {
     "data": {
      "image/png": "[encoded data removed]",
      "text/plain": [
       "<Figure size 640x480 with 1 Axes>"
      ]
     },
     "metadata": {},
     "output_type": "display_data"
    }
   ],
   "source": [
    "y = x\n",
    "plt.plot(x,y)"
   ]
  },
  {
   "cell_type": "code",
   "execution_count": 63,
   "id": "bda1abca",
   "metadata": {},
   "outputs": [
    {
     "data": {
      "text/plain": [
       "[<matplotlib.lines.Line2D at 0x192902cad10>]"
      ]
     },
     "execution_count": 63,
     "metadata": {},
     "output_type": "execute_result"
    },
    {
     "data": {
      "image/png": "[encoded data removed]",
      "text/plain": [
       "<Figure size 640x480 with 1 Axes>"
      ]
     },
     "metadata": {},
     "output_type": "display_data"
    }
   ],
   "source": [
    "y = x**2\n",
    "plt.plot(x,y)"
   ]
  },
  {
   "cell_type": "code",
   "execution_count": 64,
   "id": "3d75829d",
   "metadata": {},
   "outputs": [
    {
     "data": {
      "text/plain": [
       "[<matplotlib.lines.Line2D at 0x19290332690>]"
      ]
     },
     "execution_count": 64,
     "metadata": {},
     "output_type": "execute_result"
    },
    {
     "data": {
      "image/png": "[encoded data removed]",
      "text/plain": [
       "<Figure size 640x480 with 1 Axes>"
      ]
     },
     "metadata": {},
     "output_type": "display_data"
    }
   ],
   "source": [
    "y = x**3 / 100\n",
    "plt.plot(x,y)\n"
   ]
  },
  {
   "cell_type": "code",
   "execution_count": 65,
   "id": "e6a6a776",
   "metadata": {},
   "outputs": [
    {
     "data": {
      "text/plain": [
       "[<matplotlib.lines.Line2D at 0x192903a0090>]"
      ]
     },
     "execution_count": 65,
     "metadata": {},
     "output_type": "execute_result"
    },
    {
     "data": {
      "image/png": "[encoded data removed]",
      "text/plain": [
       "<Figure size 640x480 with 1 Axes>"
      ]
     },
     "metadata": {},
     "output_type": "display_data"
    }
   ],
   "source": [
    "y = np.sin(x)\n",
    "plt.plot(x,y)\n"
   ]
  },
  {
   "cell_type": "code",
   "execution_count": 66,
   "id": "190a8b82",
   "metadata": {},
   "outputs": [
    {
     "data": {
      "text/plain": [
       "[<matplotlib.lines.Line2D at 0x1929054ed10>]"
      ]
     },
     "execution_count": 66,
     "metadata": {},
     "output_type": "execute_result"
    },
    {
     "data": {
      "image/png": "[encoded data removed]",
      "text/plain": [
       "<Figure size 640x480 with 1 Axes>"
      ]
     },
     "metadata": {},
     "output_type": "display_data"
    }
   ],
   "source": [
    "y = np.sin(x)/ x\n",
    "plt.plot(x,y)"
   ]
  },
  {
   "cell_type": "code",
   "execution_count": 67,
   "id": "ab145a1d",
   "metadata": {},
   "outputs": [
    {
     "data": {
      "text/plain": [
       "[<matplotlib.lines.Line2D at 0x192905bd790>]"
      ]
     },
     "execution_count": 67,
     "metadata": {},
     "output_type": "execute_result"
    },
    {
     "data": {
      "image/png": "[encoded data removed]",
      "text/plain": [
       "<Figure size 640x480 with 1 Axes>"
      ]
     },
     "metadata": {},
     "output_type": "display_data"
    }
   ],
   "source": [
    "y = np.log(x)\n",
    "plt.plot(x,y)"
   ]
  },
  {
   "cell_type": "code",
   "execution_count": 68,
   "id": "fabf1e22",
   "metadata": {},
   "outputs": [
    {
     "data": {
      "text/plain": [
       "[<matplotlib.lines.Line2D at 0x19290579910>]"
      ]
     },
     "execution_count": 68,
     "metadata": {},
     "output_type": "execute_result"
    },
    {
     "data": {
      "image/png": "[encoded data removed]",
      "text/plain": [
       "<Figure size 640x480 with 1 Axes>"
      ]
     },
     "metadata": {},
     "output_type": "display_data"
    }
   ],
   "source": [
    "y = np.exp(x)\n",
    "plt.plot(x,y)"
   ]
  },
  {
   "cell_type": "markdown",
   "id": "f003e833",
   "metadata": {},
   "source": [
    "Q10 using numpy to create a matrix of siz 20 * 5\n"
   ]
  },
  {
   "cell_type": "code",
   "execution_count": 69,
   "id": "57743e5d",
   "metadata": {},
   "outputs": [
    {
     "name": "stdout",
     "output_type": "stream",
     "text": [
      "[[1.35558803 1.53296377 1.17407979 1.96815062 1.86523665]\n",
      " [1.77449841 1.53353734 1.81810034 1.196243   1.6580033 ]\n",
      " [1.40080729 1.29723219 1.61356634 1.13597676 1.34911642]\n",
      " [1.61491251 1.75291593 1.26790275 1.47228293 1.68484452]\n",
      " [1.01540683 1.30889933 1.69102167 1.28288876 1.90937216]\n",
      " [1.41732412 1.09614048 1.47962656 1.9032452  1.39991064]\n",
      " [1.35760808 1.2848134  1.90872772 1.99191107 1.55295916]\n",
      " [1.85706418 1.15395495 1.47887048 1.64449405 1.86603436]\n",
      " [1.2260532  1.40255893 1.78668366 1.34729679 1.52179312]\n",
      " [1.14969063 1.12715069 1.63655306 1.50455015 1.23343123]\n",
      " [1.71479658 1.2749681  1.23063776 1.82818209 1.04634072]\n",
      " [1.71328049 1.32675168 1.20655174 1.63930569 1.35763161]\n",
      " [1.75794995 1.09938801 1.6061405  1.74185223 1.43703847]\n",
      " [1.79110071 1.24978588 1.20859301 1.03676009 1.09066515]\n",
      " [1.68667118 1.52989678 1.46419011 1.48148539 1.7580599 ]\n",
      " [1.23451501 1.87390991 1.29697688 1.46335768 1.16500131]\n",
      " [1.78833367 1.47564104 1.06170548 1.90261733 1.01024476]\n",
      " [1.28040418 1.86457169 1.04145895 1.92061671 1.47942219]\n",
      " [1.58271828 1.1620587  1.67683526 1.18157155 1.20832698]\n",
      " [1.52670696 1.98706163 1.03088558 1.18337856 1.53866027]]\n"
     ]
    }
   ],
   "source": [
    "# Q10 \n",
    "m = np.random.uniform(1,2,[20,5])\n",
    "print(m)"
   ]
  },
  {
   "cell_type": "code",
   "execution_count": 70,
   "id": "2a84fb94",
   "metadata": {},
   "outputs": [
    {
     "name": "stdout",
     "output_type": "stream",
     "text": [
      "           A         B         C         D         E\n",
      "0   1.355588  1.532964  1.174080  1.968151  1.865237\n",
      "1   1.774498  1.533537  1.818100  1.196243  1.658003\n",
      "2   1.400807  1.297232  1.613566  1.135977  1.349116\n",
      "3   1.614913  1.752916  1.267903  1.472283  1.684845\n",
      "4   1.015407  1.308899  1.691022  1.282889  1.909372\n",
      "5   1.417324  1.096140  1.479627  1.903245  1.399911\n",
      "6   1.357608  1.284813  1.908728  1.991911  1.552959\n",
      "7   1.857064  1.153955  1.478870  1.644494  1.866034\n",
      "8   1.226053  1.402559  1.786684  1.347297  1.521793\n",
      "9   1.149691  1.127151  1.636553  1.504550  1.233431\n",
      "10  1.714797  1.274968  1.230638  1.828182  1.046341\n",
      "11  1.713280  1.326752  1.206552  1.639306  1.357632\n",
      "12  1.757950  1.099388  1.606141  1.741852  1.437038\n",
      "13  1.791101  1.249786  1.208593  1.036760  1.090665\n",
      "14  1.686671  1.529897  1.464190  1.481485  1.758060\n",
      "15  1.234515  1.873910  1.296977  1.463358  1.165001\n",
      "16  1.788334  1.475641  1.061705  1.902617  1.010245\n",
      "17  1.280404  1.864572  1.041459  1.920617  1.479422\n",
      "18  1.582718  1.162059  1.676835  1.181572  1.208327\n",
      "19  1.526707  1.987062  1.030886  1.183379  1.538660\n"
     ]
    }
   ],
   "source": [
    "# data frame of the matrix\n",
    "df = pd.DataFrame(m, columns = [\"A\",\"B\",\"C\",\"D\",\"E\"])\n",
    "print(df)\n"
   ]
  },
  {
   "cell_type": "code",
   "execution_count": 71,
   "id": "f871d953",
   "metadata": {},
   "outputs": [
    {
     "name": "stdout",
     "output_type": "stream",
     "text": [
      "0.24398592615141756\n",
      "0.26571856099589997\n",
      "0.26862960987239787\n",
      "0.30406155316688593\n",
      "0.27081555593557544\n",
      "column with the highest stanard deviation is D\n",
      "1.5792037727178836\n",
      "1.5960764778724723\n",
      "1.3593397972374914\n",
      "1.5585717270073398\n",
      "1.4415177501747745\n",
      "1.4592494002386776\n",
      "1.6192038863561833\n",
      "1.6000836035765413\n",
      "1.456877138818607\n",
      "1.3302751525501753\n",
      "1.4189850506459447\n",
      "1.4487042415688465\n",
      "1.528473832617904\n",
      "1.275380967300518\n",
      "1.5840606726540032\n",
      "1.4067521586846712\n",
      "1.4477084545662418\n",
      "1.5172947461216768\n",
      "1.3623021520689576\n",
      "1.45333859823118\n",
      "row with the lowest mean is: 19\n"
     ]
    }
   ],
   "source": [
    "# column with the highest std dev\n",
    "std_dev = 0\n",
    "col = \"\"\n",
    "for c in df.columns:\n",
    "    std = np.std(df[c])\n",
    "    print(std)\n",
    "    if std_dev < std:\n",
    "        col = c\n",
    "        std_dev = std\n",
    "print(f\"column with the highest stanard deviation is {col}\")\n",
    "\n",
    "# row with teh lowest mean\n",
    "mean = 0\n",
    "r = 0\n",
    "for i in range(m.shape[0]):\n",
    "    mean_i = np.mean(np.array(df.loc[i]))\n",
    "    print(mean_i)\n",
    "    if mean_i < mean:\n",
    "        mean = mean_i\n",
    "        r = i\n",
    "print(f\"row with the lowest mean is: {i}\")\n",
    "\n",
    "\n",
    "        \n",
    "\n",
    "        \n",
    "\n",
    "\n",
    "\n",
    "   \n",
    "\n",
    "\n",
    "    "
   ]
  },
  {
   "cell_type": "code",
   "execution_count": 72,
   "id": "c7f7e804",
   "metadata": {},
   "outputs": [
    {
     "name": "stdout",
     "output_type": "stream",
     "text": [
      "[1.35558803 1.53296377 1.17407979 1.96815062 1.86523665]\n",
      "[1.77449841 1.53353734 1.81810034 1.196243   1.6580033 ]\n",
      "[1.40080729 1.29723219 1.61356634 1.13597676 1.34911642]\n",
      "[1.61491251 1.75291593 1.26790275 1.47228293 1.68484452]\n",
      "[1.01540683 1.30889933 1.69102167 1.28288876 1.90937216]\n",
      "[1.41732412 1.09614048 1.47962656 1.9032452  1.39991064]\n",
      "[1.35760808 1.2848134  1.90872772 1.99191107 1.55295916]\n",
      "[1.85706418 1.15395495 1.47887048 1.64449405 1.86603436]\n",
      "[1.2260532  1.40255893 1.78668366 1.34729679 1.52179312]\n",
      "[1.14969063 1.12715069 1.63655306 1.50455015 1.23343123]\n",
      "[1.71479658 1.2749681  1.23063776 1.82818209 1.04634072]\n",
      "[1.71328049 1.32675168 1.20655174 1.63930569 1.35763161]\n",
      "[1.75794995 1.09938801 1.6061405  1.74185223 1.43703847]\n",
      "[1.79110071 1.24978588 1.20859301 1.03676009 1.09066515]\n",
      "[1.68667118 1.52989678 1.46419011 1.48148539 1.7580599 ]\n",
      "[1.23451501 1.87390991 1.29697688 1.46335768 1.16500131]\n",
      "[1.78833367 1.47564104 1.06170548 1.90261733 1.01024476]\n",
      "[1.28040418 1.86457169 1.04145895 1.92061671 1.47942219]\n",
      "[1.58271828 1.1620587  1.67683526 1.18157155 1.20832698]\n",
      "[1.52670696 1.98706163 1.03088558 1.18337856 1.53866027]\n"
     ]
    },
    {
     "data": {
      "text/html": [
       "<div>\n",
       "<style scoped>\n",
       "    .dataframe tbody tr th:only-of-type {\n",
       "        vertical-align: middle;\n",
       "    }\n",
       "\n",
       "    .dataframe tbody tr th {\n",
       "        vertical-align: top;\n",
       "    }\n",
       "\n",
       "    .dataframe thead th {\n",
       "        text-align: right;\n",
       "    }\n",
       "</style>\n",
       "<table border=\"1\" class=\"dataframe\">\n",
       "  <thead>\n",
       "    <tr style=\"text-align: right;\">\n",
       "      <th></th>\n",
       "      <th>A</th>\n",
       "      <th>B</th>\n",
       "      <th>C</th>\n",
       "      <th>D</th>\n",
       "      <th>E</th>\n",
       "      <th>f</th>\n",
       "      <th>g</th>\n",
       "    </tr>\n",
       "  </thead>\n",
       "  <tbody>\n",
       "    <tr>\n",
       "      <th>0</th>\n",
       "      <td>1.355588</td>\n",
       "      <td>1.532964</td>\n",
       "      <td>1.174080</td>\n",
       "      <td>1.968151</td>\n",
       "      <td>1.865237</td>\n",
       "      <td>7.896019</td>\n",
       "      <td>LT8</td>\n",
       "    </tr>\n",
       "    <tr>\n",
       "      <th>1</th>\n",
       "      <td>1.774498</td>\n",
       "      <td>1.533537</td>\n",
       "      <td>1.818100</td>\n",
       "      <td>1.196243</td>\n",
       "      <td>1.658003</td>\n",
       "      <td>7.980382</td>\n",
       "      <td>LT8</td>\n",
       "    </tr>\n",
       "    <tr>\n",
       "      <th>2</th>\n",
       "      <td>1.400807</td>\n",
       "      <td>1.297232</td>\n",
       "      <td>1.613566</td>\n",
       "      <td>1.135977</td>\n",
       "      <td>1.349116</td>\n",
       "      <td>6.796699</td>\n",
       "      <td>LT8</td>\n",
       "    </tr>\n",
       "    <tr>\n",
       "      <th>3</th>\n",
       "      <td>1.614913</td>\n",
       "      <td>1.752916</td>\n",
       "      <td>1.267903</td>\n",
       "      <td>1.472283</td>\n",
       "      <td>1.684845</td>\n",
       "      <td>7.792859</td>\n",
       "      <td>LT8</td>\n",
       "    </tr>\n",
       "    <tr>\n",
       "      <th>4</th>\n",
       "      <td>1.015407</td>\n",
       "      <td>1.308899</td>\n",
       "      <td>1.691022</td>\n",
       "      <td>1.282889</td>\n",
       "      <td>1.909372</td>\n",
       "      <td>7.207589</td>\n",
       "      <td>LT8</td>\n",
       "    </tr>\n",
       "    <tr>\n",
       "      <th>5</th>\n",
       "      <td>1.417324</td>\n",
       "      <td>1.096140</td>\n",
       "      <td>1.479627</td>\n",
       "      <td>1.903245</td>\n",
       "      <td>1.399911</td>\n",
       "      <td>7.296247</td>\n",
       "      <td>LT8</td>\n",
       "    </tr>\n",
       "    <tr>\n",
       "      <th>6</th>\n",
       "      <td>1.357608</td>\n",
       "      <td>1.284813</td>\n",
       "      <td>1.908728</td>\n",
       "      <td>1.991911</td>\n",
       "      <td>1.552959</td>\n",
       "      <td>8.096019</td>\n",
       "      <td>GT8</td>\n",
       "    </tr>\n",
       "    <tr>\n",
       "      <th>7</th>\n",
       "      <td>1.857064</td>\n",
       "      <td>1.153955</td>\n",
       "      <td>1.478870</td>\n",
       "      <td>1.644494</td>\n",
       "      <td>1.866034</td>\n",
       "      <td>8.000418</td>\n",
       "      <td>GT8</td>\n",
       "    </tr>\n",
       "    <tr>\n",
       "      <th>8</th>\n",
       "      <td>1.226053</td>\n",
       "      <td>1.402559</td>\n",
       "      <td>1.786684</td>\n",
       "      <td>1.347297</td>\n",
       "      <td>1.521793</td>\n",
       "      <td>7.284386</td>\n",
       "      <td>LT8</td>\n",
       "    </tr>\n",
       "    <tr>\n",
       "      <th>9</th>\n",
       "      <td>1.149691</td>\n",
       "      <td>1.127151</td>\n",
       "      <td>1.636553</td>\n",
       "      <td>1.504550</td>\n",
       "      <td>1.233431</td>\n",
       "      <td>6.651376</td>\n",
       "      <td>LT8</td>\n",
       "    </tr>\n",
       "    <tr>\n",
       "      <th>10</th>\n",
       "      <td>1.714797</td>\n",
       "      <td>1.274968</td>\n",
       "      <td>1.230638</td>\n",
       "      <td>1.828182</td>\n",
       "      <td>1.046341</td>\n",
       "      <td>7.094925</td>\n",
       "      <td>LT8</td>\n",
       "    </tr>\n",
       "    <tr>\n",
       "      <th>11</th>\n",
       "      <td>1.713280</td>\n",
       "      <td>1.326752</td>\n",
       "      <td>1.206552</td>\n",
       "      <td>1.639306</td>\n",
       "      <td>1.357632</td>\n",
       "      <td>7.243521</td>\n",
       "      <td>LT8</td>\n",
       "    </tr>\n",
       "    <tr>\n",
       "      <th>12</th>\n",
       "      <td>1.757950</td>\n",
       "      <td>1.099388</td>\n",
       "      <td>1.606141</td>\n",
       "      <td>1.741852</td>\n",
       "      <td>1.437038</td>\n",
       "      <td>7.642369</td>\n",
       "      <td>LT8</td>\n",
       "    </tr>\n",
       "    <tr>\n",
       "      <th>13</th>\n",
       "      <td>1.791101</td>\n",
       "      <td>1.249786</td>\n",
       "      <td>1.208593</td>\n",
       "      <td>1.036760</td>\n",
       "      <td>1.090665</td>\n",
       "      <td>6.376905</td>\n",
       "      <td>LT8</td>\n",
       "    </tr>\n",
       "    <tr>\n",
       "      <th>14</th>\n",
       "      <td>1.686671</td>\n",
       "      <td>1.529897</td>\n",
       "      <td>1.464190</td>\n",
       "      <td>1.481485</td>\n",
       "      <td>1.758060</td>\n",
       "      <td>7.920303</td>\n",
       "      <td>LT8</td>\n",
       "    </tr>\n",
       "    <tr>\n",
       "      <th>15</th>\n",
       "      <td>1.234515</td>\n",
       "      <td>1.873910</td>\n",
       "      <td>1.296977</td>\n",
       "      <td>1.463358</td>\n",
       "      <td>1.165001</td>\n",
       "      <td>7.033761</td>\n",
       "      <td>LT8</td>\n",
       "    </tr>\n",
       "    <tr>\n",
       "      <th>16</th>\n",
       "      <td>1.788334</td>\n",
       "      <td>1.475641</td>\n",
       "      <td>1.061705</td>\n",
       "      <td>1.902617</td>\n",
       "      <td>1.010245</td>\n",
       "      <td>7.238542</td>\n",
       "      <td>LT8</td>\n",
       "    </tr>\n",
       "    <tr>\n",
       "      <th>17</th>\n",
       "      <td>1.280404</td>\n",
       "      <td>1.864572</td>\n",
       "      <td>1.041459</td>\n",
       "      <td>1.920617</td>\n",
       "      <td>1.479422</td>\n",
       "      <td>7.586474</td>\n",
       "      <td>LT8</td>\n",
       "    </tr>\n",
       "    <tr>\n",
       "      <th>18</th>\n",
       "      <td>1.582718</td>\n",
       "      <td>1.162059</td>\n",
       "      <td>1.676835</td>\n",
       "      <td>1.181572</td>\n",
       "      <td>1.208327</td>\n",
       "      <td>6.811511</td>\n",
       "      <td>LT8</td>\n",
       "    </tr>\n",
       "    <tr>\n",
       "      <th>19</th>\n",
       "      <td>1.526707</td>\n",
       "      <td>1.987062</td>\n",
       "      <td>1.030886</td>\n",
       "      <td>1.183379</td>\n",
       "      <td>1.538660</td>\n",
       "      <td>7.266693</td>\n",
       "      <td>LT8</td>\n",
       "    </tr>\n",
       "  </tbody>\n",
       "</table>\n",
       "</div>"
      ],
      "text/plain": [
       "           A         B         C         D         E         f    g\n",
       "0   1.355588  1.532964  1.174080  1.968151  1.865237  7.896019  LT8\n",
       "1   1.774498  1.533537  1.818100  1.196243  1.658003  7.980382  LT8\n",
       "2   1.400807  1.297232  1.613566  1.135977  1.349116  6.796699  LT8\n",
       "3   1.614913  1.752916  1.267903  1.472283  1.684845  7.792859  LT8\n",
       "4   1.015407  1.308899  1.691022  1.282889  1.909372  7.207589  LT8\n",
       "5   1.417324  1.096140  1.479627  1.903245  1.399911  7.296247  LT8\n",
       "6   1.357608  1.284813  1.908728  1.991911  1.552959  8.096019  GT8\n",
       "7   1.857064  1.153955  1.478870  1.644494  1.866034  8.000418  GT8\n",
       "8   1.226053  1.402559  1.786684  1.347297  1.521793  7.284386  LT8\n",
       "9   1.149691  1.127151  1.636553  1.504550  1.233431  6.651376  LT8\n",
       "10  1.714797  1.274968  1.230638  1.828182  1.046341  7.094925  LT8\n",
       "11  1.713280  1.326752  1.206552  1.639306  1.357632  7.243521  LT8\n",
       "12  1.757950  1.099388  1.606141  1.741852  1.437038  7.642369  LT8\n",
       "13  1.791101  1.249786  1.208593  1.036760  1.090665  6.376905  LT8\n",
       "14  1.686671  1.529897  1.464190  1.481485  1.758060  7.920303  LT8\n",
       "15  1.234515  1.873910  1.296977  1.463358  1.165001  7.033761  LT8\n",
       "16  1.788334  1.475641  1.061705  1.902617  1.010245  7.238542  LT8\n",
       "17  1.280404  1.864572  1.041459  1.920617  1.479422  7.586474  LT8\n",
       "18  1.582718  1.162059  1.676835  1.181572  1.208327  6.811511  LT8\n",
       "19  1.526707  1.987062  1.030886  1.183379  1.538660  7.266693  LT8"
      ]
     },
     "execution_count": 72,
     "metadata": {},
     "output_type": "execute_result"
    }
   ],
   "source": [
    "# Q-11\n",
    "f = []\n",
    "g = []\n",
    "#df.drop(columns = [\"f\", \"g\"], inplace= True)\n",
    "# Add a new column to the dataframe called “f” which is the sum of the columns “a”, “b”, “c”, “d”, “e”. Create another column called “g”. The value in the \n",
    "#column “g” should be “LT8” if the value in the column “f” is less than 8 and “GT8” otherwise. Find the number of rows in the dataframe where the value in the column “g” is “LT8”. Find the standard dev\n",
    "#iation of the column “f” for the rows where the value in the column “g” is “LT8” and “GT8” respectively.\n",
    "for i in range(m.shape[0]):\n",
    "    row = np.array(df.loc[i])\n",
    "    print(row)\n",
    "    sum = np.sum(row)\n",
    "    f.append(sum)\n",
    "df[\"f\"] = f\n",
    "for f in f:\n",
    "    if f < 8:\n",
    "        g.append(\"LT8\")\n",
    "    else:\n",
    "        g.append(\"GT8\")\n",
    "df[\"g\"] = g\n",
    "df\n",
    "\n"
   ]
  },
  {
   "cell_type": "code",
   "execution_count": 73,
   "id": "193f0602",
   "metadata": {},
   "outputs": [
    {
     "name": "stdout",
     "output_type": "stream",
     "text": [
      "0.44318010972960015\n",
      "0.0478007069491051\n"
     ]
    }
   ],
   "source": [
    "#standard deviation of f where g is LT8\n",
    "f_lt8 = []\n",
    "for i in range(m.shape[0]):\n",
    "    if df.loc[i][\"g\"] == \"LT8\":\n",
    "        f_lt8.append(df.loc[i][\"f\"])\n",
    "#print(f_lt8)\n",
    "print(np.std(f_lt8))\n",
    "\n",
    "#standard deviation of f where g is GT8\n",
    "f_gt8 = []\n",
    "for i in range(m.shape[0]):\n",
    "    if df.loc[i][\"g\"] == \"GT8\":\n",
    "        f_gt8.append(df.loc[i][\"f\"])\n",
    "#print(f_gt8)\n",
    "print(np.std(f_gt8))\n"
   ]
  },
  {
   "cell_type": "markdown",
   "id": "8e42486a",
   "metadata": {},
   "source": [
    "Broadcasting\n"
   ]
  },
  {
   "cell_type": "code",
   "execution_count": 74,
   "id": "96f6d646",
   "metadata": {},
   "outputs": [
    {
     "data": {
      "text/plain": [
       "[1, 2, 3, 1, 2, 3]"
      ]
     },
     "execution_count": 74,
     "metadata": {},
     "output_type": "execute_result"
    }
   ],
   "source": [
    "# Normal Array\n",
    "a = [1,2,3]\n",
    "a * 2"
   ]
  },
  {
   "cell_type": "code",
   "execution_count": 75,
   "id": "2aea549c",
   "metadata": {},
   "outputs": [
    {
     "name": "stdout",
     "output_type": "stream",
     "text": [
      "[2 4 6]\n",
      "[2 4 6]\n"
     ]
    }
   ],
   "source": [
    "# Broascasting in numpy\n",
    "a = np.array([1,2,3])\n",
    "b = np.array([2,2,2])\n",
    "print(a * b)\n",
    "print(a * 2)"
   ]
  },
  {
   "cell_type": "code",
   "execution_count": 76,
   "id": "361ff525",
   "metadata": {},
   "outputs": [
    {
     "name": "stdout",
     "output_type": "stream",
     "text": [
      "8\n",
      "0.0\n"
     ]
    }
   ],
   "source": [
    "#Q-13\n",
    "a = [1,2,3,4,5,6,7,5,0,2,4]\n",
    "s = time.time()\n",
    "def argmin(a):\n",
    "    min = a[0]\n",
    "    min_index = 0\n",
    "    for i in range(len(a)):\n",
    "        if a[i] < min:\n",
    "            min = a[i]\n",
    "            min_index = i\n",
    "    return min_index\n",
    "e = time.time()\n",
    "t = e - s\n",
    "print(argmin(a))\n",
    "print(t)"
   ]
  },
  {
   "cell_type": "code",
   "execution_count": 77,
   "id": "4a59bd1a",
   "metadata": {},
   "outputs": [
    {
     "name": "stdout",
     "output_type": "stream",
     "text": [
      "8\n",
      "0.0\n"
     ]
    }
   ],
   "source": [
    "# numpy \n",
    "s = time.time()\n",
    "a = np.array(a)\n",
    "print(np.argmin(a))\n",
    "e = time.time()\n",
    "t = e - s\n",
    "print(t)\n"
   ]
  },
  {
   "cell_type": "code",
   "execution_count": null,
   "id": "2191cd9b",
   "metadata": {},
   "outputs": [],
   "source": []
  }
 ],
 "metadata": {
  "kernelspec": {
   "display_name": "Python 3 (ipykernel)",
   "language": "python",
   "name": "python3"
  },
  "language_info": {
   "codemirror_mode": {
    "name": "ipython",
    "version": 3
   },
   "file_extension": ".py",
   "mimetype": "text/x-python",
   "name": "python",
   "nbconvert_exporter": "python",
   "pygments_lexer": "ipython3",
   "version": "3.11.3"
  }
 },
 "nbformat": 4,
 "nbformat_minor": 5
}
